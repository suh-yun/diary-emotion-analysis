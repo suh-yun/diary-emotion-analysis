{
  "nbformat": 4,
  "nbformat_minor": 0,
  "metadata": {
    "colab": {
      "provenance": [],
      "include_colab_link": true
    },
    "kernelspec": {
      "name": "python3",
      "display_name": "Python 3"
    },
    "language_info": {
      "name": "python"
    }
  },
  "cells": [
    {
      "cell_type": "markdown",
      "metadata": {
        "id": "view-in-github",
        "colab_type": "text"
      },
      "source": [
        "<a href=\"https://colab.research.google.com/github/suh-yun/diary-emotion-analysis/blob/main/%EA%B3%A0%EC%A0%95_%ED%82%A4%EC%9B%8C%EB%93%9C_%EC%B6%94%EC%B6%9C.ipynb\" target=\"_parent\"><img src=\"https://colab.research.google.com/assets/colab-badge.svg\" alt=\"Open In Colab\"/></a>"
      ]
    },
    {
      "cell_type": "code",
      "execution_count": null,
      "metadata": {
        "colab": {
          "base_uri": "https://localhost:8080/"
        },
        "id": "vYP3Z4JxwrRs",
        "outputId": "79c84915-826f-4557-9bbf-4424b35f6e19"
      },
      "outputs": [
        {
          "output_type": "stream",
          "name": "stdout",
          "text": [
            "Collecting konlpy\n",
            "  Downloading konlpy-0.6.0-py2.py3-none-any.whl.metadata (1.9 kB)\n",
            "Collecting JPype1>=0.7.0 (from konlpy)\n",
            "  Downloading jpype1-1.6.0-cp312-cp312-manylinux2014_x86_64.manylinux_2_17_x86_64.whl.metadata (5.0 kB)\n",
            "Requirement already satisfied: lxml>=4.1.0 in /usr/local/lib/python3.12/dist-packages (from konlpy) (5.4.0)\n",
            "Requirement already satisfied: numpy>=1.6 in /usr/local/lib/python3.12/dist-packages (from konlpy) (2.0.2)\n",
            "Requirement already satisfied: packaging in /usr/local/lib/python3.12/dist-packages (from JPype1>=0.7.0->konlpy) (25.0)\n",
            "Downloading konlpy-0.6.0-py2.py3-none-any.whl (19.4 MB)\n",
            "\u001b[2K   \u001b[90m━━━━━━━━━━━━━━━━━━━━━━━━━━━━━━━━━━━━━━━━\u001b[0m \u001b[32m19.4/19.4 MB\u001b[0m \u001b[31m22.1 MB/s\u001b[0m eta \u001b[36m0:00:00\u001b[0m\n",
            "\u001b[?25hDownloading jpype1-1.6.0-cp312-cp312-manylinux2014_x86_64.manylinux_2_17_x86_64.whl (495 kB)\n",
            "\u001b[2K   \u001b[90m━━━━━━━━━━━━━━━━━━━━━━━━━━━━━━━━━━━━━━━━\u001b[0m \u001b[32m495.9/495.9 kB\u001b[0m \u001b[31m24.4 MB/s\u001b[0m eta \u001b[36m0:00:00\u001b[0m\n",
            "\u001b[?25hInstalling collected packages: JPype1, konlpy\n",
            "Successfully installed JPype1-1.6.0 konlpy-0.6.0\n",
            "Reading package lists... Done\n",
            "Building dependency tree... Done\n",
            "Reading state information... Done\n",
            "The following additional packages will be installed:\n",
            "  fonts-dejavu-core fonts-dejavu-extra libatk-wrapper-java\n",
            "  libatk-wrapper-java-jni libxt-dev libxtst6 libxxf86dga1 openjdk-11-jre\n",
            "  x11-utils\n",
            "Suggested packages:\n",
            "  libxt-doc openjdk-11-demo openjdk-11-source visualvm mesa-utils\n",
            "The following NEW packages will be installed:\n",
            "  fonts-dejavu-core fonts-dejavu-extra libatk-wrapper-java\n",
            "  libatk-wrapper-java-jni libxt-dev libxtst6 libxxf86dga1 openjdk-11-jdk\n",
            "  openjdk-11-jre x11-utils\n",
            "0 upgraded, 10 newly installed, 0 to remove and 35 not upgraded.\n",
            "Need to get 5,367 kB of archives.\n",
            "After this operation, 15.2 MB of additional disk space will be used.\n",
            "Get:1 http://archive.ubuntu.com/ubuntu jammy/main amd64 fonts-dejavu-core all 2.37-2build1 [1,041 kB]\n",
            "Get:2 http://archive.ubuntu.com/ubuntu jammy/main amd64 fonts-dejavu-extra all 2.37-2build1 [2,041 kB]\n",
            "Get:3 http://archive.ubuntu.com/ubuntu jammy/main amd64 libxtst6 amd64 2:1.2.3-1build4 [13.4 kB]\n",
            "Get:4 http://archive.ubuntu.com/ubuntu jammy/main amd64 libxxf86dga1 amd64 2:1.1.5-0ubuntu3 [12.6 kB]\n",
            "Get:5 http://archive.ubuntu.com/ubuntu jammy/main amd64 x11-utils amd64 7.7+5build2 [206 kB]\n",
            "Get:6 http://archive.ubuntu.com/ubuntu jammy/main amd64 libatk-wrapper-java all 0.38.0-5build1 [53.1 kB]\n",
            "Get:7 http://archive.ubuntu.com/ubuntu jammy/main amd64 libatk-wrapper-java-jni amd64 0.38.0-5build1 [49.0 kB]\n",
            "Get:8 http://archive.ubuntu.com/ubuntu jammy/main amd64 libxt-dev amd64 1:1.2.1-1 [396 kB]\n",
            "Get:9 http://archive.ubuntu.com/ubuntu jammy-updates/main amd64 openjdk-11-jre amd64 11.0.28+6-1ubuntu1~22.04.1 [214 kB]\n",
            "Get:10 http://archive.ubuntu.com/ubuntu jammy-updates/main amd64 openjdk-11-jdk amd64 11.0.28+6-1ubuntu1~22.04.1 [1,342 kB]\n",
            "Fetched 5,367 kB in 1s (3,657 kB/s)\n",
            "Selecting previously unselected package fonts-dejavu-core.\n",
            "(Reading database ... 126371 files and directories currently installed.)\n",
            "Preparing to unpack .../0-fonts-dejavu-core_2.37-2build1_all.deb ...\n",
            "Unpacking fonts-dejavu-core (2.37-2build1) ...\n",
            "Selecting previously unselected package fonts-dejavu-extra.\n",
            "Preparing to unpack .../1-fonts-dejavu-extra_2.37-2build1_all.deb ...\n",
            "Unpacking fonts-dejavu-extra (2.37-2build1) ...\n",
            "Selecting previously unselected package libxtst6:amd64.\n",
            "Preparing to unpack .../2-libxtst6_2%3a1.2.3-1build4_amd64.deb ...\n",
            "Unpacking libxtst6:amd64 (2:1.2.3-1build4) ...\n",
            "Selecting previously unselected package libxxf86dga1:amd64.\n",
            "Preparing to unpack .../3-libxxf86dga1_2%3a1.1.5-0ubuntu3_amd64.deb ...\n",
            "Unpacking libxxf86dga1:amd64 (2:1.1.5-0ubuntu3) ...\n",
            "Selecting previously unselected package x11-utils.\n",
            "Preparing to unpack .../4-x11-utils_7.7+5build2_amd64.deb ...\n",
            "Unpacking x11-utils (7.7+5build2) ...\n",
            "Selecting previously unselected package libatk-wrapper-java.\n",
            "Preparing to unpack .../5-libatk-wrapper-java_0.38.0-5build1_all.deb ...\n",
            "Unpacking libatk-wrapper-java (0.38.0-5build1) ...\n",
            "Selecting previously unselected package libatk-wrapper-java-jni:amd64.\n",
            "Preparing to unpack .../6-libatk-wrapper-java-jni_0.38.0-5build1_amd64.deb ...\n",
            "Unpacking libatk-wrapper-java-jni:amd64 (0.38.0-5build1) ...\n",
            "Selecting previously unselected package libxt-dev:amd64.\n",
            "Preparing to unpack .../7-libxt-dev_1%3a1.2.1-1_amd64.deb ...\n",
            "Unpacking libxt-dev:amd64 (1:1.2.1-1) ...\n",
            "Selecting previously unselected package openjdk-11-jre:amd64.\n",
            "Preparing to unpack .../8-openjdk-11-jre_11.0.28+6-1ubuntu1~22.04.1_amd64.deb ...\n",
            "Unpacking openjdk-11-jre:amd64 (11.0.28+6-1ubuntu1~22.04.1) ...\n",
            "Selecting previously unselected package openjdk-11-jdk:amd64.\n",
            "Preparing to unpack .../9-openjdk-11-jdk_11.0.28+6-1ubuntu1~22.04.1_amd64.deb ...\n",
            "Unpacking openjdk-11-jdk:amd64 (11.0.28+6-1ubuntu1~22.04.1) ...\n",
            "Setting up libxtst6:amd64 (2:1.2.3-1build4) ...\n",
            "Setting up libxxf86dga1:amd64 (2:1.1.5-0ubuntu3) ...\n",
            "Setting up openjdk-11-jre:amd64 (11.0.28+6-1ubuntu1~22.04.1) ...\n",
            "Setting up libxt-dev:amd64 (1:1.2.1-1) ...\n",
            "Setting up fonts-dejavu-core (2.37-2build1) ...\n",
            "Setting up fonts-dejavu-extra (2.37-2build1) ...\n",
            "Setting up x11-utils (7.7+5build2) ...\n",
            "Setting up openjdk-11-jdk:amd64 (11.0.28+6-1ubuntu1~22.04.1) ...\n",
            "update-alternatives: using /usr/lib/jvm/java-11-openjdk-amd64/bin/jconsole to provide /usr/bin/jconsole (jconsole) in auto mode\n",
            "Setting up libatk-wrapper-java (0.38.0-5build1) ...\n",
            "Setting up libatk-wrapper-java-jni:amd64 (0.38.0-5build1) ...\n",
            "Processing triggers for fontconfig (2.13.1-4.2ubuntu5) ...\n",
            "Processing triggers for hicolor-icon-theme (0.17-2) ...\n",
            "Processing triggers for libc-bin (2.35-0ubuntu3.8) ...\n",
            "/sbin/ldconfig.real: /usr/local/lib/libtbbbind.so.3 is not a symbolic link\n",
            "\n",
            "/sbin/ldconfig.real: /usr/local/lib/libur_adapter_level_zero_v2.so.0 is not a symbolic link\n",
            "\n",
            "/sbin/ldconfig.real: /usr/local/lib/libtbbbind_2_0.so.3 is not a symbolic link\n",
            "\n",
            "/sbin/ldconfig.real: /usr/local/lib/libtbbmalloc.so.2 is not a symbolic link\n",
            "\n",
            "/sbin/ldconfig.real: /usr/local/lib/libtcm_debug.so.1 is not a symbolic link\n",
            "\n",
            "/sbin/ldconfig.real: /usr/local/lib/libtbbbind_2_5.so.3 is not a symbolic link\n",
            "\n",
            "/sbin/ldconfig.real: /usr/local/lib/libur_adapter_opencl.so.0 is not a symbolic link\n",
            "\n",
            "/sbin/ldconfig.real: /usr/local/lib/libur_loader.so.0 is not a symbolic link\n",
            "\n",
            "/sbin/ldconfig.real: /usr/local/lib/libtbbmalloc_proxy.so.2 is not a symbolic link\n",
            "\n",
            "/sbin/ldconfig.real: /usr/local/lib/libur_adapter_level_zero.so.0 is not a symbolic link\n",
            "\n",
            "/sbin/ldconfig.real: /usr/local/lib/libumf.so.0 is not a symbolic link\n",
            "\n",
            "/sbin/ldconfig.real: /usr/local/lib/libtbb.so.12 is not a symbolic link\n",
            "\n",
            "/sbin/ldconfig.real: /usr/local/lib/libhwloc.so.15 is not a symbolic link\n",
            "\n",
            "/sbin/ldconfig.real: /usr/local/lib/libtcm.so.1 is not a symbolic link\n",
            "\n",
            "Processing triggers for man-db (2.10.2-1) ...\n",
            "Processing triggers for mailcap (3.70+nmu1ubuntu1) ...\n"
          ]
        }
      ],
      "source": [
        "!pip install konlpy\n",
        "!apt-get install -y openjdk-11-jdk\n",
        "import os\n",
        "os.environ[\"JAVA_HOME\"] = \"/usr/lib/jvm/java-11-openjdk-amd64\"\n",
        "#자연어처리도구 설치하는 단계"
      ]
    },
    {
      "cell_type": "code",
      "source": [
        "import json\n",
        "\n",
        "# 카테고리 이름을 zip 파일명 혹은 폴더명처럼 처리\n",
        "keyword_map = {\n",
        "    # 감성,밤\n",
        "    \"밤\": \"감성_밤\", \"새벽\": \"감성_밤\", \"달\": \"감성_밤\", \"별\": \"감성_밤\",\n",
        "\n",
        "    # 강아지,고양이,반려동물\n",
        "    \"강아지\": \"강아지_고양이_반려동물\", \"고양이\": \"강아지_고양이_반려동물\", \"반려동물\": \"강아지_고양이_반려동물\",\n",
        "    \"반려묘\": \"강아지_고양이_반려동물\", \"반려견\": \"강아지_고양이_반려동물\",\n",
        "    \"개\": \"강아지_고양이_반려동물\", \"댕댕이\": \"강아지_고양이_반려동물\",\n",
        "    \"떼껄룩\": \"강아지_고양이_반려동물\", \"냥이\": \"강아지_고양이_반려동물\",\n",
        "\n",
        "    # 공부,시험,과제\n",
        "    \"공부\": \"공부_시험_과제\", \"시험\": \"공부_시험_과제\", \"과제\": \"공부_시험_과제\",\n",
        "    \"중간\": \"공부_시험_과제\", \"기말\": \"공부_시험_과제\",\n",
        "\n",
        "    # 사랑,고백,연애,데이트\n",
        "    \"애인\": \"사랑_고백_연애_데이트\", \"남자친구\": \"사랑_고백_연애_데이트\", \"여자친구\": \"사랑_고백_연애_데이트\",\n",
        "    \"남친\": \"사랑_고백_연애_데이트\", \"여친\": \"사랑_고백_연애_데이트\",\n",
        "    \"사랑\": \"사랑_고백_연애_데이트\", \"고백\": \"사랑_고백_연애_데이트\",\n",
        "    \"연애\": \"사랑_고백_연애_데이트\", \"데이트\": \"사랑_고백_연애_데이트\",\n",
        "    \"기념일\": \"사랑_고백_연애_데이트\",\n",
        "\n",
        "    # 생일,축하,선물\n",
        "    \"생일\": \"생일_축하_선물\", \"축하\": \"생일_축하_선물\", \"선물\": \"생일_축하_선물\", \"파티\": \"생일_축하_선물\",\n",
        "\n",
        "    # 쇼핑,옷\n",
        "    \"치마\": \"쇼핑_옷\", \"바지\": \"쇼핑_옷\", \"티셔츠\": \"쇼핑_옷\", \"원피스\": \"쇼핑_옷\",\n",
        "    \"쇼핑\": \"쇼핑_옷\", \"옷\": \"쇼핑_옷\",\n",
        "\n",
        "    # 여행,바다,산\n",
        "    \"여행\": \"여행_바다_산\", \"바다\": \"여행_바다_산\", \"산\": \"여행_바다_산\", \"캠핑\": \"여행_바다_산\",\n",
        "\n",
        "    # 영화,드라마\n",
        "    \"영화\": \"영화_드라마\", \"드라마\": \"영화_드라마\", \"팝콘\": \"영화_드라마\",\n",
        "\n",
        "    # 음악,노래,컴백\n",
        "    \"아이돌\": \"음악_노래_컴백\", \"가수\": \"음악_노래_컴백\", \"음악\": \"음악_노래_컴백\",\n",
        "    \"노래\": \"음악_노래_컴백\", \"컴백\": \"음악_노래_컴백\", \"응원봉\": \"음악_노래_컴백\",\n",
        "    \"남돌\": \"음악_노래_컴백\", \"여돌\": \"음악_노래_컴백\", \"플리\": \"음악_노래_컴백\",\n",
        "    \"플레이리스트\": \"음악_노래_컴백\", \"콘서트\": \"음악_노래_컴백\",\n",
        "\n",
        "    # 친구,약속,만남\n",
        "    \"친구\": \"친구_약속_만남\", \"약속\": \"친구_약속_만남\", \"만남\": \"친구_약속_만남\",\n",
        "\n",
        "    # 카페,커피,디저트\n",
        "    \"카페\": \"카페_커피_디저트\", \"커피\": \"카페_커피_디저트\", \"케이크\": \"카페_커피_디저트\",\n",
        "    \"아메리카노\": \"카페_커피_디저트\", \"아아\": \"카페_커피_디저트\",\n",
        "    \"파이\": \"카페_커피_디저트\", \"티라미수\": \"카페_커피_디저트\", \"디저트\": \"카페_커피_디저트\"\n",
        "}\n",
        "\n",
        "# JSON 파일로 저장\n",
        "with open(\"keyword_map.json\", \"w\", encoding=\"utf-8\") as f:\n",
        "    json.dump(keyword_map, f, ensure_ascii=False, indent=2)\n",
        "\n",
        "print(\"✅ 키워드 사전(keyword_map.json)이 저장되었습니다.\")\n"
      ],
      "metadata": {
        "colab": {
          "base_uri": "https://localhost:8080/"
        },
        "id": "BvvuxTdgwvJT",
        "outputId": "1144d592-6f1e-425c-b492-669fd943f754"
      },
      "execution_count": null,
      "outputs": [
        {
          "output_type": "stream",
          "name": "stdout",
          "text": [
            "✅ 키워드 사전(keyword_map.json)이 저장되었습니다.\n"
          ]
        }
      ]
    },
    {
      "cell_type": "code",
      "source": [
        "from konlpy.tag import Okt\n",
        "import json\n",
        "\n",
        "okt = Okt()\n",
        "\n",
        "# 키워드 사전 불러오기\n",
        "with open(\"keyword_map.json\", \"r\", encoding=\"utf-8\") as f:\n",
        "    keyword_map = json.load(f)\n",
        "\n",
        "def extract_keywords(text):\n",
        "    stopwords = [\"오늘\", \"어제\", \"내일\", \"기분\", \"정말\", \"조금\", \"좀\", \"너무\"]\n",
        "\n",
        "    tokens = okt.pos(text, stem=True)  # (단어, 품사) 쌍으로 나옴\n",
        "\n",
        "    result = {}\n",
        "    for word, pos in tokens:\n",
        "        if pos != 'Noun':  # 명사일 때만 처리\n",
        "            continue\n",
        "        if word in stopwords:\n",
        "            continue\n",
        "        category = keyword_map.get(word)\n",
        "        if category:\n",
        "            result.setdefault(category, []).append(word)\n",
        "\n",
        "    return result\n",
        "\n"
      ],
      "metadata": {
        "id": "GbNpDqeDyYdk"
      },
      "execution_count": null,
      "outputs": []
    },
    {
      "cell_type": "code",
      "source": [
        "# 테스트를 위한 코드니까 이부분은 필요없어\n",
        "# 아래 두 코드는 위에서 만든 코드를 파이썬 함수 형태로 다운받는 코드야!\n",
        "\n",
        "text = \"케이크가 달다.\"\n",
        "result = extract_keywords(text)\n",
        "print(result)"
      ],
      "metadata": {
        "colab": {
          "base_uri": "https://localhost:8080/"
        },
        "id": "liMTv-rk0Xsm",
        "outputId": "88a9d42d-82b5-4b1f-fedf-e67dbc9f4a08"
      },
      "execution_count": null,
      "outputs": [
        {
          "output_type": "stream",
          "name": "stdout",
          "text": [
            "{'카페_커피_디저트': ['케이크']}\n"
          ]
        }
      ]
    },
    {
      "cell_type": "code",
      "source": [
        "code = \"\"\"\n",
        "from konlpy.tag import Okt\n",
        "import json\n",
        "\n",
        "# 형태소 분석기\n",
        "okt = Okt()\n",
        "\n",
        "# 키워드 사전 로드\n",
        "with open(\"keyword_map.json\", \"r\", encoding=\"utf-8\") as f:\n",
        "    keyword_map = json.load(f)\n",
        "\n",
        "# 핵심 함수\n",
        "def extract_keywords(text):\n",
        "    nouns = okt.nouns(text)\n",
        "    filtered = [n for n in nouns if n not in stopwords]\n",
        "    result = {}\n",
        "\n",
        "    for word in filtered:\n",
        "        category = keyword_map.get(word)\n",
        "        if category:\n",
        "            if category not in result:\n",
        "                result[category] = []\n",
        "            result[category].append(word)\n",
        "\n",
        "    return result\n",
        "\"\"\"\n",
        "\n",
        "with open(\"extract_keywords.py\", \"w\", encoding=\"utf-8\") as f:\n",
        "    f.write(code)\n"
      ],
      "metadata": {
        "id": "isG-A5_3zzVn"
      },
      "execution_count": null,
      "outputs": []
    },
    {
      "cell_type": "code",
      "source": [
        "from google.colab import files\n",
        "files.download(\"keyword_map.json\")\n",
        "files.download(\"extract_keywords.py\")"
      ],
      "metadata": {
        "colab": {
          "base_uri": "https://localhost:8080/",
          "height": 17
        },
        "id": "fUis_rUdz1YV",
        "outputId": "b5abaca1-8474-4ca7-96e6-2a2c3b875b9d"
      },
      "execution_count": null,
      "outputs": [
        {
          "output_type": "display_data",
          "data": {
            "text/plain": [
              "<IPython.core.display.Javascript object>"
            ],
            "application/javascript": [
              "\n",
              "    async function download(id, filename, size) {\n",
              "      if (!google.colab.kernel.accessAllowed) {\n",
              "        return;\n",
              "      }\n",
              "      const div = document.createElement('div');\n",
              "      const label = document.createElement('label');\n",
              "      label.textContent = `Downloading \"${filename}\": `;\n",
              "      div.appendChild(label);\n",
              "      const progress = document.createElement('progress');\n",
              "      progress.max = size;\n",
              "      div.appendChild(progress);\n",
              "      document.body.appendChild(div);\n",
              "\n",
              "      const buffers = [];\n",
              "      let downloaded = 0;\n",
              "\n",
              "      const channel = await google.colab.kernel.comms.open(id);\n",
              "      // Send a message to notify the kernel that we're ready.\n",
              "      channel.send({})\n",
              "\n",
              "      for await (const message of channel.messages) {\n",
              "        // Send a message to notify the kernel that we're ready.\n",
              "        channel.send({})\n",
              "        if (message.buffers) {\n",
              "          for (const buffer of message.buffers) {\n",
              "            buffers.push(buffer);\n",
              "            downloaded += buffer.byteLength;\n",
              "            progress.value = downloaded;\n",
              "          }\n",
              "        }\n",
              "      }\n",
              "      const blob = new Blob(buffers, {type: 'application/binary'});\n",
              "      const a = document.createElement('a');\n",
              "      a.href = window.URL.createObjectURL(blob);\n",
              "      a.download = filename;\n",
              "      div.appendChild(a);\n",
              "      a.click();\n",
              "      div.remove();\n",
              "    }\n",
              "  "
            ]
          },
          "metadata": {}
        },
        {
          "output_type": "display_data",
          "data": {
            "text/plain": [
              "<IPython.core.display.Javascript object>"
            ],
            "application/javascript": [
              "download(\"download_60583c0a-46ff-4812-b33d-f65d00bde136\", \"keyword_map.json\", 2597)"
            ]
          },
          "metadata": {}
        },
        {
          "output_type": "display_data",
          "data": {
            "text/plain": [
              "<IPython.core.display.Javascript object>"
            ],
            "application/javascript": [
              "\n",
              "    async function download(id, filename, size) {\n",
              "      if (!google.colab.kernel.accessAllowed) {\n",
              "        return;\n",
              "      }\n",
              "      const div = document.createElement('div');\n",
              "      const label = document.createElement('label');\n",
              "      label.textContent = `Downloading \"${filename}\": `;\n",
              "      div.appendChild(label);\n",
              "      const progress = document.createElement('progress');\n",
              "      progress.max = size;\n",
              "      div.appendChild(progress);\n",
              "      document.body.appendChild(div);\n",
              "\n",
              "      const buffers = [];\n",
              "      let downloaded = 0;\n",
              "\n",
              "      const channel = await google.colab.kernel.comms.open(id);\n",
              "      // Send a message to notify the kernel that we're ready.\n",
              "      channel.send({})\n",
              "\n",
              "      for await (const message of channel.messages) {\n",
              "        // Send a message to notify the kernel that we're ready.\n",
              "        channel.send({})\n",
              "        if (message.buffers) {\n",
              "          for (const buffer of message.buffers) {\n",
              "            buffers.push(buffer);\n",
              "            downloaded += buffer.byteLength;\n",
              "            progress.value = downloaded;\n",
              "          }\n",
              "        }\n",
              "      }\n",
              "      const blob = new Blob(buffers, {type: 'application/binary'});\n",
              "      const a = document.createElement('a');\n",
              "      a.href = window.URL.createObjectURL(blob);\n",
              "      a.download = filename;\n",
              "      div.appendChild(a);\n",
              "      a.click();\n",
              "      div.remove();\n",
              "    }\n",
              "  "
            ]
          },
          "metadata": {}
        },
        {
          "output_type": "display_data",
          "data": {
            "text/plain": [
              "<IPython.core.display.Javascript object>"
            ],
            "application/javascript": [
              "download(\"download_658c8af4-8fec-4313-8aa2-3eff97f29b13\", \"extract_keywords.py\", 564)"
            ]
          },
          "metadata": {}
        }
      ]
    },
    {
      "cell_type": "code",
      "source": [
        "# keyword_extractor.py\n",
        "# ↓ 네가 Colab에서 쓰던 import들 그대로 옮겨오기\n",
        "# 예: from konlpy.tag import Okt, Kkma, Mecab ...\n",
        "#     import re, collections, numpy as np, pandas as pd, etc.\n",
        "\n",
        "class KeywordExtractor:\n",
        "    def __init__(self):\n",
        "        # 모델/토크나이저/불용어 사전 등 한 번만 로드\n",
        "        # 예:\n",
        "        # self.okt = Okt()\n",
        "        # with open(\"stopwords.txt\", encoding=\"utf-8\") as f:\n",
        "        #     self.stopwords = set(w.strip() for w in f if w.strip())\n",
        "        pass\n",
        "\n",
        "    def extract(self, text: str, top_k: int = 10):\n",
        "        \"\"\"\n",
        "        입력: text(일기 원문), top_k(상위 키워드 개수)\n",
        "        출력: [\"키워드1\",\"키워드2\", ...] 형태의 리스트\n",
        "        \"\"\"\n",
        "        # ---- 네 Colab 처리 파이프라인을 여기에 이식 ----\n",
        "        # 1) 정규화/전처리\n",
        "        # 2) 형태소 분석(명사·형용사 등 선택)\n",
        "        # 3) 불용어/한 글자 필터링\n",
        "        # 4) 가중치(TF-IDF, TextRank, RAKE, 빈도 등) 계산\n",
        "        # 5) 상위 top_k 추출\n",
        "        # 예시 더미 구현:\n",
        "        # tokens = [t for t in self.okt.nouns(text) if t not in self.stopwords and len(t) > 1]\n",
        "        # counter = collections.Counter(tokens)\n",
        "        # keywords = [w for w, c in counter.most_common(top_k)]\n",
        "        # return keywords\n",
        "        return []\n",
        "\n",
        "# 전역 싱글톤 (서버 시작 시 1회 로드)\n",
        "extractor = KeywordExtractor()\n",
        "\n",
        "def extract_keywords(text: str, top_k: int = 10):\n",
        "    return extractor.extract(text, top_k=top_k)\n"
      ],
      "metadata": {
        "id": "HCZEMw0f_235"
      },
      "execution_count": null,
      "outputs": []
    }
  ]
}